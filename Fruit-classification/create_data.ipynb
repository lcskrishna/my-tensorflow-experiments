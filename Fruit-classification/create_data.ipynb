{
 "cells": [
  {
   "cell_type": "code",
   "execution_count": 1,
   "metadata": {
    "collapsed": true
   },
   "outputs": [],
   "source": [
    "import numpy as np\n",
    "import cv2\n",
    "import os\n",
    "import glob"
   ]
  },
  {
   "cell_type": "code",
   "execution_count": 2,
   "metadata": {
    "collapsed": true
   },
   "outputs": [],
   "source": [
    "fruit_names = [\n",
    "    'Apple Braeburn',\n",
    "    'Apple Golden 1',\n",
    "    'Apple Golden 2',\n",
    "    'Apple Golden 3',\n",
    "    'Apple Granny Smith',\n",
    "    'Apple Red 1',\n",
    "    'Apple Red 2',\n",
    "    'Apple Red 3',\n",
    "    'Apple Red Delicious',\n",
    "    'Apple Red Yellow',\n",
    "    'Apricot',\n",
    "    'Avocado',\n",
    "    'Avocado ripe',\n",
    "    'Banana',\n",
    "    'Banana red',\n",
    "    'Cactus fruit',\n",
    "    'Carambula',\n",
    "    'Cherry',\n",
    "    'Clementine',\n",
    "    'Cocos',\n",
    "    'Dates',\n",
    "    'Granadilla',\n",
    "    'Grape Pink',\n",
    "    'Grape White',\n",
    "    'Grape White 2',\n",
    "    'Grapefruit Pink',\n",
    "    'Grapefruit White',\n",
    "    'Guava',\n",
    "    'Huckleberry',\n",
    "    'Kaki',\n",
    "    'Kiwi',\n",
    "    'Kumquats',\n",
    "    'Lemon',\n",
    "    'Lemon Meyer',\n",
    "    'Limes',\n",
    "    'Litchi',\n",
    "    'Mandarine',\n",
    "    'Mango',\n",
    "    'Maracuja',\n",
    "    'Nectarine',\n",
    "    'Orange',\n",
    "    'Papaya',\n",
    "    'Passion Fruit',\n",
    "    'Peach',\n",
    "    'Peach Flat',\n",
    "    'Pear',\n",
    "    'Pear Abate',\n",
    "    'Pear Monster',\n",
    "    'Pear Williams',\n",
    "    'Pepino',\n",
    "    'Pineapple',\n",
    "    'Pitahaya Red',\n",
    "    'Plum',\n",
    "    'Pomegranate',\n",
    "    'Quince',\n",
    "    'Raspberry',\n",
    "    'Salak',\n",
    "    'Strawberry',\n",
    "    'Tamarillo',\n",
    "    'Tangelo'\n",
    "]\n",
    "\n",
    "image_path = \"C:/Users/lolla/Documents/Study/Research/Datasets/Fruits/fruits-360/Training/\""
   ]
  },
  {
   "cell_type": "code",
   "execution_count": 4,
   "metadata": {
    "scrolled": true
   },
   "outputs": [
    {
     "name": "stdout",
     "output_type": "stream",
     "text": [
      "Apple Braeburn\n",
      "Apple Golden 1\n",
      "Apple Golden 2\n",
      "Apple Golden 3\n",
      "Apple Granny Smith\n",
      "Apple Red 1\n",
      "Apple Red 2\n",
      "Apple Red 3\n",
      "Apple Red Delicious\n",
      "Apple Red Yellow\n",
      "Apricot\n",
      "Avocado\n",
      "Avocado ripe\n",
      "Banana\n",
      "Banana red\n",
      "Cactus fruit\n",
      "Carambula\n",
      "Cherry\n",
      "Clementine\n",
      "Cocos\n",
      "Dates\n",
      "Granadilla\n",
      "Grape Pink\n",
      "Grape White\n",
      "Grape White 2\n",
      "Grapefruit Pink\n",
      "Grapefruit White\n",
      "Guava\n",
      "Huckleberry\n",
      "Kaki\n",
      "Kiwi\n",
      "Kumquats\n",
      "Lemon\n",
      "Lemon Meyer\n",
      "Limes\n",
      "Litchi\n",
      "Mandarine\n",
      "Mango\n",
      "Maracuja\n",
      "Nectarine\n",
      "Orange\n",
      "Papaya\n",
      "Passion Fruit\n",
      "Peach\n",
      "Peach Flat\n",
      "Pear\n",
      "Pear Abate\n",
      "Pear Monster\n",
      "Pear Williams\n",
      "Pepino\n",
      "Pineapple\n",
      "Pitahaya Red\n",
      "Plum\n",
      "Pomegranate\n",
      "Quince\n",
      "Raspberry\n",
      "Salak\n",
      "Strawberry\n",
      "Tamarillo\n",
      "Tangelo\n"
     ]
    }
   ],
   "source": [
    "## Path to images.\n",
    "train_data = []\n",
    "train_labels = []\n",
    "for fruit in fruit_names:\n",
    "    print (fruit)\n",
    "    folder_path = image_path + fruit\n",
    "    #image_path = \"C:/Users/lolla/Documents/Study/Research/Datasets/Fruits/fruits-360/Training/Apple Braeburn\"\n",
    "    images = os.listdir(folder_path)\n",
    "    \n",
    "    for i in range(len(images)):\n",
    "        final_path = folder_path +  \"/\" + images[i]\n",
    "        img = cv2.imread(final_path, cv2.IMREAD_COLOR)\n",
    "        #img = cv2.cvtColor(img, cv2.COLOR_RGB2BGR)\n",
    "        #img = np.reshape(img, (3,100,100))\n",
    "        dims = np.shape(img)\n",
    "        img = np.reshape(img, (dims[2], dims[0], dims[1]))\n",
    "        train_data.append(img)\n",
    "        train_labels.append(fruit)"
   ]
  },
  {
   "cell_type": "code",
   "execution_count": 5,
   "metadata": {},
   "outputs": [
    {
     "name": "stdout",
     "output_type": "stream",
     "text": [
      "(28736, 3, 100, 100)\n",
      "(28736,)\n"
     ]
    }
   ],
   "source": [
    "train_data = np.array(train_data)\n",
    "print (train_data.shape)\n",
    "train_labels = np.array(train_labels)\n",
    "print (train_labels.shape)"
   ]
  },
  {
   "cell_type": "code",
   "execution_count": 6,
   "metadata": {
    "collapsed": true
   },
   "outputs": [],
   "source": [
    "## saving the data into a file.\n",
    "np.save('train_data.npy', train_data)\n",
    "check = np.load('train_data.npy')\n",
    "np.save('train_labels.npy', train_labels)\n",
    "check2 = np.load('train_labels.npy')\n"
   ]
  },
  {
   "cell_type": "code",
   "execution_count": 7,
   "metadata": {},
   "outputs": [
    {
     "name": "stdout",
     "output_type": "stream",
     "text": [
      "(28736, 3, 100, 100)\n",
      "(28736,)\n"
     ]
    }
   ],
   "source": [
    "print (check.shape)\n",
    "print (check2.shape)"
   ]
  },
  {
   "cell_type": "code",
   "execution_count": 8,
   "metadata": {},
   "outputs": [
    {
     "name": "stdout",
     "output_type": "stream",
     "text": [
      "Apple Braeburn\n",
      "Apple Golden 1\n",
      "Apple Golden 2\n",
      "Apple Golden 3\n",
      "Apple Granny Smith\n",
      "Apple Red 1\n",
      "Apple Red 2\n",
      "Apple Red 3\n",
      "Apple Red Delicious\n",
      "Apple Red Yellow\n",
      "Apricot\n",
      "Avocado\n",
      "Avocado ripe\n",
      "Banana\n",
      "Banana red\n",
      "Cactus fruit\n",
      "Carambula\n",
      "Cherry\n",
      "Clementine\n",
      "Cocos\n",
      "Dates\n",
      "Granadilla\n",
      "Grape Pink\n",
      "Grape White\n",
      "Grape White 2\n",
      "Grapefruit Pink\n",
      "Grapefruit White\n",
      "Guava\n",
      "Huckleberry\n",
      "Kaki\n",
      "Kiwi\n",
      "Kumquats\n",
      "Lemon\n",
      "Lemon Meyer\n",
      "Limes\n",
      "Litchi\n",
      "Mandarine\n",
      "Mango\n",
      "Maracuja\n",
      "Nectarine\n",
      "Orange\n",
      "Papaya\n",
      "Passion Fruit\n",
      "Peach\n",
      "Peach Flat\n",
      "Pear\n",
      "Pear Abate\n",
      "Pear Monster\n",
      "Pear Williams\n",
      "Pepino\n",
      "Pineapple\n",
      "Pitahaya Red\n",
      "Plum\n",
      "Pomegranate\n",
      "Quince\n",
      "Raspberry\n",
      "Salak\n",
      "Strawberry\n",
      "Tamarillo\n",
      "Tangelo\n"
     ]
    }
   ],
   "source": [
    "validation_image_path = \"C:/Users/lolla/Documents/Study/Research/Datasets/Fruits/fruits-360/Validation/\"\n",
    "## Path to images.\n",
    "validation_data = []\n",
    "validation_labels = []\n",
    "for fruit in fruit_names:\n",
    "    print (fruit)\n",
    "    folder_path = validation_image_path + fruit\n",
    "    #image_path = \"C:/Users/lolla/Documents/Study/Research/Datasets/Fruits/fruits-360/Training/Apple Braeburn\"\n",
    "    images = os.listdir(folder_path)\n",
    "    \n",
    "    for i in range(len(images)):\n",
    "        final_path = folder_path +  \"/\" + images[i]\n",
    "        img = cv2.imread(final_path, cv2.IMREAD_COLOR)\n",
    "        #img = cv2.cvtColor(img, cv2.COLOR_RGB2BGR)\n",
    "        #img = np.reshape(img, (3,100,100))\n",
    "        dims = np.shape(img)\n",
    "        img = np.reshape(img, (dims[2], dims[0], dims[1]))\n",
    "        validation_data.append(img)\n",
    "        validation_labels.append(fruit)"
   ]
  },
  {
   "cell_type": "code",
   "execution_count": 9,
   "metadata": {},
   "outputs": [
    {
     "name": "stdout",
     "output_type": "stream",
     "text": [
      "(9673, 3, 100, 100)\n",
      "(9673,)\n"
     ]
    }
   ],
   "source": [
    "validation_data = np.array(validation_data)\n",
    "print (validation_data.shape)\n",
    "validation_labels = np.array(validation_labels)\n",
    "print (validation_labels.shape)"
   ]
  },
  {
   "cell_type": "code",
   "execution_count": 12,
   "metadata": {
    "collapsed": true
   },
   "outputs": [],
   "source": [
    "## saving the data into a file.\n",
    "np.save('validation_data.npy', validation_data)\n",
    "check = np.load('validation_data.npy')\n",
    "np.save('validation_labels.npy', validation_labels)\n",
    "check2 = np.load('validation_labels.npy')\n"
   ]
  },
  {
   "cell_type": "code",
   "execution_count": 13,
   "metadata": {},
   "outputs": [
    {
     "name": "stdout",
     "output_type": "stream",
     "text": [
      "(9673, 3, 100, 100)\n",
      "(9673,)\n"
     ]
    }
   ],
   "source": [
    "print (check.shape)\n",
    "print (check2.shape)"
   ]
  },
  {
   "cell_type": "code",
   "execution_count": null,
   "metadata": {
    "collapsed": true
   },
   "outputs": [],
   "source": []
  }
 ],
 "metadata": {
  "kernelspec": {
   "display_name": "Python 3",
   "language": "python",
   "name": "python3"
  },
  "language_info": {
   "codemirror_mode": {
    "name": "ipython",
    "version": 3
   },
   "file_extension": ".py",
   "mimetype": "text/x-python",
   "name": "python",
   "nbconvert_exporter": "python",
   "pygments_lexer": "ipython3",
   "version": "3.6.3"
  }
 },
 "nbformat": 4,
 "nbformat_minor": 2
}
