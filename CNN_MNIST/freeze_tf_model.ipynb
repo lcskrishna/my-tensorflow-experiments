{
 "cells": [
  {
   "cell_type": "code",
   "execution_count": 1,
   "metadata": {
    "collapsed": true
   },
   "outputs": [],
   "source": [
    "import os\n",
    "import argparse\n",
    "import tensorflow as tf"
   ]
  },
  {
   "cell_type": "code",
   "execution_count": 3,
   "metadata": {},
   "outputs": [],
   "source": [
    "dir = os.path.dirname(os.path.realpath(\"__file__\"))"
   ]
  },
  {
   "cell_type": "code",
   "execution_count": 4,
   "metadata": {
    "collapsed": true
   },
   "outputs": [],
   "source": [
    "def freeze_graph(model_dir, output_node_names):\n",
    "    if not tf.gfile.Exists(model_dir):\n",
    "        print (\"ERROR: please give an export directory.\")\n",
    "    \n",
    "    if not output_node_names:\n",
    "        print (\"ERROR: output node names is required.\")\n",
    "        \n",
    "    checkpoint = tf.train.get_checkpoint_state(model_dir)\n",
    "    input_checkpoint = checkpoint.model_checkpoint_path\n",
    "    output_graph = model_dir + \"/frozen_model.pb\"\n",
    "    \n",
    "    clear_devices = True\n",
    "    \n",
    "    with tf.Session(graph=tf.Graph()) as sess:\n",
    "        saver = tf.train.import_meta_graph(input_checkpoint + \".meta\", clear_devices=clear_devices)\n",
    "        saver.restore(sess, input_checkpoint)\n",
    "        \n",
    "        output_graph_def = tf.graph_util.convert_variables_to_constants(sess, tf.get_default_graph().as_graph_def(), output_node_names.split(\",\"))\n",
    "        \n",
    "        with tf.gfile.GFile(output_graph, \"wb\") as f:\n",
    "            f.write(output_graph_def.SerializeToString())\n",
    "            \n",
    "        print (\"%d ops in the final graph. \" % (len(output_graph_def.node)))\n",
    "        \n",
    "    return output_graph_def\n",
    "        "
   ]
  },
  {
   "cell_type": "code",
   "execution_count": 5,
   "metadata": {},
   "outputs": [
    {
     "name": "stdout",
     "output_type": "stream",
     "text": [
      "INFO:tensorflow:Restoring parameters from C:/Users/lolla/Documents/Study/Research/Tensorflow_Practise/mnist_dump\\model.ckpt-13381\n",
      "INFO:tensorflow:Froze 8 variables.\n",
      "Converted 8 variables to const ops.\n",
      "49 ops in the final graph. \n"
     ]
    }
   ],
   "source": [
    "if __name__ == '__main__':\n",
    "    model_dir = \"C:/Users/lolla/Documents/Study/Research/Tensorflow_Practise/mnist_dump\"\n",
    "    output_node_names = \"softmax_tensor\"\n",
    "    \n",
    "    freeze_graph(model_dir, output_node_names)"
   ]
  },
  {
   "cell_type": "code",
   "execution_count": null,
   "metadata": {
    "collapsed": true
   },
   "outputs": [],
   "source": []
  }
 ],
 "metadata": {
  "kernelspec": {
   "display_name": "Python 3",
   "language": "python",
   "name": "python3"
  },
  "language_info": {
   "codemirror_mode": {
    "name": "ipython",
    "version": 3
   },
   "file_extension": ".py",
   "mimetype": "text/x-python",
   "name": "python",
   "nbconvert_exporter": "python",
   "pygments_lexer": "ipython3",
   "version": "3.6.3"
  }
 },
 "nbformat": 4,
 "nbformat_minor": 2
}
